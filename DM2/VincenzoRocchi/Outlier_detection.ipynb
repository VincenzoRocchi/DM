{
 "cells": [
  {
   "cell_type": "code",
   "execution_count": 15,
   "metadata": {},
   "outputs": [],
   "source": [
    "import pandas as pd\n",
    "import numpy as np\n",
    "import matplotlib.pyplot as plt\n",
    "import seaborn as sns\n",
    "\n",
    "# Importing Dataset\n",
    "df_train_DT = pd.read_csv(\"data\\TRAIN_PREPROCESED_DT.csv\")\n",
    "df_test_DT = pd.read_csv(\"data\\TEST_PREPROCESED_DT.csv\")\n",
    "\n",
    "df_train_KNN = pd.read_csv(\"data\\TRAIN_PREPROCESED_KNN.csv\")\n",
    "df_test_KNN = pd.read_csv(\"data\\TEST_PREPROCESED_KNN.csv\")"
   ]
  },
  {
   "attachments": {},
   "cell_type": "markdown",
   "metadata": {},
   "source": [
    "# Outlier Detection"
   ]
  },
  {
   "cell_type": "code",
   "execution_count": 16,
   "metadata": {},
   "outputs": [],
   "source": [
    "target_name = 'emotional_intensity'\n",
    "\n",
    "attributes = [col for col in df_train_DT.columns if col != target_name]"
   ]
  },
  {
   "cell_type": "code",
   "execution_count": 17,
   "metadata": {},
   "outputs": [],
   "source": [
    "X_train = df_train_DT[attributes]\n",
    "y_train = df_train_DT[target_name]\n",
    "X_test = df_test_DT[attributes]\n",
    "y_test = df_test_DT[target_name]"
   ]
  },
  {
   "cell_type": "code",
   "execution_count": 18,
   "metadata": {},
   "outputs": [],
   "source": [
    "from sklearn.model_selection import train_test_split\n",
    "X_train, X_val, y_train, y_val = train_test_split(X_train, y_train, test_size=0.25, random_state=42)"
   ]
  },
  {
   "attachments": {},
   "cell_type": "markdown",
   "metadata": {},
   "source": [
    "### Checking performance of classification BEFORE outlier removal"
   ]
  },
  {
   "cell_type": "code",
   "execution_count": 19,
   "metadata": {},
   "outputs": [
    {
     "name": "stdout",
     "output_type": "stream",
     "text": [
      "Decision Tree Classifier Performance BEFORE removing outliers:\n",
      "Accuracy 0.7264770240700219\n",
      "F1-score [0.72885033 0.72406181]\n",
      "              precision    recall  f1-score   support\n",
      "\n",
      "           0       0.78      0.69      0.73       245\n",
      "           1       0.68      0.77      0.72       212\n",
      "\n",
      "    accuracy                           0.73       457\n",
      "   macro avg       0.73      0.73      0.73       457\n",
      "weighted avg       0.73      0.73      0.73       457\n",
      "\n"
     ]
    }
   ],
   "source": [
    "# Checking performance of classification Before outlier removal\n",
    "from sklearn.tree import DecisionTreeClassifier\n",
    "from sklearn.model_selection import GridSearchCV\n",
    "from sklearn.metrics import accuracy_score, f1_score, classification_report\n",
    "\n",
    "# Define the hyperparameters to search over\n",
    "param_grid = {\n",
    "    'criterion': ['gini', 'entropy'],\n",
    "    'max_depth': [2, 4, 6, 8, 10],\n",
    "    'min_samples_split': [2, 4, 6, 8, 10],\n",
    "    'min_samples_leaf': [1, 2, 3, 4, 5]\n",
    "}\n",
    "\n",
    "# Create a decision tree classifier object\n",
    "clf = DecisionTreeClassifier()\n",
    "\n",
    "# Create a grid search object\n",
    "grid_search = GridSearchCV(clf, param_grid, cv=5)\n",
    "\n",
    "# Fit the grid search object to the data\n",
    "grid_search.fit(X_train, y_train)\n",
    "\n",
    "# Use the best estimator to make predictions on the test set\n",
    "y_pred = grid_search.best_estimator_.predict(X_val)\n",
    "\n",
    "# Print the evaluation metrics\n",
    "print('Decision Tree Classifier Performance BEFORE removing outliers:')\n",
    "print('Accuracy %s' % accuracy_score(y_val, y_pred))\n",
    "print('F1-score %s' % f1_score(y_val, y_pred, average=None))\n",
    "print(classification_report(y_val, y_pred))"
   ]
  },
  {
   "attachments": {},
   "cell_type": "markdown",
   "metadata": {},
   "source": [
    "### # Finding the best K and T"
   ]
  },
  {
   "cell_type": "code",
   "execution_count": 20,
   "metadata": {},
   "outputs": [
    {
     "name": "stdout",
     "output_type": "stream",
     "text": [
      "Best k = 20 , Best T = 2\n",
      "Accuracy: 0.700218818380744\n",
      "F1 Score: 0.6993516653543365\n"
     ]
    }
   ],
   "source": [
    "# Finding the best K and T\n",
    "import numpy as np\n",
    "import pandas as pd\n",
    "from sklearn.model_selection import train_test_split\n",
    "from sklearn.tree import DecisionTreeClassifier\n",
    "from sklearn.metrics import accuracy_score, f1_score, classification_report\n",
    "\n",
    "# define a range of values for k and T\n",
    "k_values = [5, 10, 15, 20]\n",
    "T_values = [2, 5, 8, 10]\n",
    "\n",
    "# initialize variables to store the best hyperparameters and performance\n",
    "max_f1_score = 0\n",
    "max_accuracy = 0\n",
    "best_k = None\n",
    "best_T = None\n",
    "\n",
    "# iterate over all possible combinations of k and T\n",
    "for k in k_values:\n",
    "    for T in T_values:\n",
    "        \n",
    "        # calculate the in-degree of each vertex in the kNN graph\n",
    "        n = X_train.shape[0] # number of vertices in graph\n",
    "        graph = np.zeros((n, n))\n",
    "        for i in range(n):\n",
    "            distances = np.linalg.norm(X_train - X_train.iloc[i], axis=1)\n",
    "            neighbors = np.argsort(distances)[1:k+1] # exclude self as nearest neighbor\n",
    "            for j in neighbors:\n",
    "                graph[i][j] = 1 # add directed edge from i to j\n",
    "        in_degree = np.sum(graph, axis=0)\n",
    "\n",
    "        # detect outliers based on in-degree threshold\n",
    "        outliers = np.where(in_degree <= T)[0]\n",
    "        inliers = np.where(in_degree > T)[0]\n",
    "\n",
    "        # remove the outliers from the training set\n",
    "        X_train_filtered = X_train.iloc[inliers]\n",
    "        y_train_filtered = y_train.iloc[inliers]\n",
    "\n",
    "        # train a decision tree classifier\n",
    "        dtc = DecisionTreeClassifier(random_state=42)\n",
    "        dtc.fit(X_train_filtered, y_train_filtered)\n",
    "\n",
    "        # make predictions on the test set\n",
    "        y_pred = dtc.predict(X_val)\n",
    "\n",
    "        # evaluate the performance of the decision tree classifier\n",
    "        f1 = f1_score(y_val, y_pred, average='weighted')\n",
    "        acc = accuracy_score(y_val, y_pred)\n",
    "        # print('k =', k, ', T =', T)\n",
    "        # print('Accuracy:', acc)\n",
    "        # print('F1 Score:', f1)\n",
    "        # print(classification_report(y_test, y_pred)) \n",
    "        \n",
    "        # update max_f1_score and max_accuracy if current values are higher\n",
    "        if f1 > max_f1_score and acc > max_accuracy:\n",
    "            max_f1_score = f1\n",
    "            max_accuracy = acc\n",
    "            best_k = k\n",
    "            best_T = T\n",
    "            \n",
    "print('Best k =', best_k, ', Best T =', best_T)\n",
    "print('Accuracy:', max_accuracy)\n",
    "print('F1 Score:', max_f1_score)"
   ]
  },
  {
   "cell_type": "code",
   "execution_count": 29,
   "metadata": {},
   "outputs": [
    {
     "data": {
      "text/plain": [
       "ABOD(contamination=0.1, method='fast', n_neighbors=5)"
      ]
     },
     "execution_count": 29,
     "metadata": {},
     "output_type": "execute_result"
    }
   ],
   "source": [
    "from pyod.models.abod import ABOD\n",
    "from pyod.utils import evaluate_print\n",
    "\n",
    "clf_name = 'ABOD'\n",
    "clf = ABOD(method = \"fast\")\n",
    "clf.fit(X_train)"
   ]
  },
  {
   "cell_type": "code",
   "execution_count": 30,
   "metadata": {},
   "outputs": [
    {
     "data": {
      "text/plain": [
       "(array([0, 1]), array([1192,  179], dtype=int64))"
      ]
     },
     "execution_count": 30,
     "metadata": {},
     "output_type": "execute_result"
    }
   ],
   "source": [
    "outliers = clf.predict(X_train)\n",
    "np.unique(outliers, return_counts=True)"
   ]
  },
  {
   "cell_type": "code",
   "execution_count": 31,
   "metadata": {},
   "outputs": [
    {
     "data": {
      "image/png": "[encoded data removed]",
      "text/plain": [
       "<Figure size 640x480 with 1 Axes>"
      ]
     },
     "metadata": {},
     "output_type": "display_data"
    }
   ],
   "source": [
    "plt.hist(clf.decision_scores_, bins=20)\n",
    "plt.axvline(np.min(clf.decision_scores_[np.where(outliers==1)]), c='k')\n",
    "plt.show()"
   ]
  },
  {
   "cell_type": "code",
   "execution_count": 47,
   "metadata": {},
   "outputs": [
    {
     "name": "stdout",
     "output_type": "stream",
     "text": [
      "\n",
      "On Training Data:\n",
      "ABOD ROC:0.6184, precision @ rank n:0.5475\n",
      "\n",
      "On Test Data:\n",
      "ABOD ROC:0.6255, precision @ rank n:0.5755\n"
     ]
    },
    {
     "data": {
      "text/plain": [
       "array([0, 0, 0, ..., 0, 0, 0])"
      ]
     },
     "execution_count": 47,
     "metadata": {},
     "output_type": "execute_result"
    }
   ],
   "source": [
    "# get the prediction labels and outlier scores of the training data\n",
    "y_train_pred = clf.labels_  # binary labels (0: inliers, 1: outliers)\n",
    "y_train_scores = clf.decision_scores_  # raw outlier scores\n",
    "\n",
    "# get the prediction on the test data\n",
    "y_val_pred = clf.predict(X_val)  # outlier labels (0 or 1)\n",
    "y_val_scores = clf.decision_function(X_val)  # outlier s`cores\n",
    "\n",
    "# evaluate and print the results\n",
    "print(\"\\nOn Training Data:\")\n",
    "evaluate_print(clf_name, y_train, y_train_scores)\n",
    "print(\"\\nOn Test Data:\")\n",
    "evaluate_print(clf_name, y_val, y_val_scores)\n",
    "\n",
    "y_train_pred"
   ]
  },
  {
   "cell_type": "code",
   "execution_count": 34,
   "metadata": {},
   "outputs": [
    {
     "name": "stdout",
     "output_type": "stream",
     "text": [
      "Error % = 42.08606856309263\n"
     ]
    }
   ],
   "source": [
    "abod_model = ABOD(contamination=0.1, method= \"fast\", n_neighbors=10)\n",
    "abod_model.fit(X_train)\n",
    "\n",
    "pred = abod_model.predict(X_train)\n",
    "\n",
    "error = (pred != y_train).sum()\n",
    "print (f'Error % = {(error/len(pred))*100}')"
   ]
  },
  {
   "cell_type": "code",
   "execution_count": null,
   "metadata": {},
   "outputs": [],
   "source": []
  }
 ],
 "metadata": {
  "kernelspec": {
   "display_name": "base",
   "language": "python",
   "name": "python3"
  },
  "language_info": {
   "codemirror_mode": {
    "name": "ipython",
    "version": 3
   },
   "file_extension": ".py",
   "mimetype": "text/x-python",
   "name": "python",
   "nbconvert_exporter": "python",
   "pygments_lexer": "ipython3",
   "version": "3.10.11"
  },
  "orig_nbformat": 4
 },
 "nbformat": 4,
 "nbformat_minor": 2
}
